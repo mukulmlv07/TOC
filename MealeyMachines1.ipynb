{
 "cells": [
  {
   "cell_type": "code",
   "execution_count": 11,
   "metadata": {},
   "outputs": [
    {
     "name": "stdin",
     "output_type": "stream",
     "text": [
      "Enter a string= 101010101\n"
     ]
    },
    {
     "name": "stdout",
     "output_type": "stream",
     "text": [
      "next state= q1\n",
      "output =  o\n",
      "\n",
      "next state= q1\n",
      "output =  o\n",
      "\n",
      "next state= q0\n",
      "output =  e\n",
      "\n",
      "next state= q0\n",
      "output =  e\n",
      "\n",
      "next state= q1\n",
      "output =  o\n",
      "\n",
      "next state= q1\n",
      "output =  o\n",
      "\n",
      "next state= q0\n",
      "output =  e\n",
      "\n",
      "next state= q0\n",
      "output =  e\n",
      "\n",
      "next state= q1\n",
      "output =  o\n",
      "\n"
     ]
    }
   ],
   "source": [
    "class mealey():\n",
    "    def __init__(self):\n",
    "        self.m={'q0':{'0':{'state':'q0','output':'e'},'1':{'state':'q1','output':'o'}},'q1':{'1':{'state':'q0','output':'e'},'0':{'state':'q1','output':'o'}}}\n",
    "    def check(self,x):\n",
    "        current='q0'\n",
    "        nextstate='q0'\n",
    "        for i in x:\n",
    "            current=nextstate\n",
    "            print('next state=',self.m[current][i]['state']) #for nextstate\n",
    "            print('output = ',self.m[current][i]['output']) #for output\n",
    "            nextstate=self.m[current][i]['state']\n",
    "            print()\n",
    "            \n",
    "\n",
    "    \n",
    "m1=mealey()\n",
    "x=input('Enter a string=')\n",
    "m1.check(x)"
   ]
  },
  {
   "cell_type": "code",
   "execution_count": 12,
   "metadata": {},
   "outputs": [
    {
     "name": "stdin",
     "output_type": "stream",
     "text": [
      "Enter a string= 1100101\n"
     ]
    },
    {
     "name": "stdout",
     "output_type": "stream",
     "text": [
      "next state= q1\n",
      "output =  o\n",
      "\n",
      "next state= q0\n",
      "output =  e\n",
      "\n",
      "next state= q0\n",
      "output =  e\n",
      "\n",
      "next state= q0\n",
      "output =  e\n",
      "\n",
      "next state= q1\n",
      "output =  o\n",
      "\n",
      "next state= q1\n",
      "output =  o\n",
      "\n",
      "next state= q0\n",
      "output =  e\n",
      "\n"
     ]
    }
   ],
   "source": [
    "class mealey():\n",
    "    def __init__(self):\n",
    "        self.m={'q0':{'0':{'state':'q0','output':'e'},'1':{'state':'q1','output':'o'}},'q1':{'1':{'state':'q0','output':'e'},'0':{'state':'q1','output':'o'}}}\n",
    "    def check(self,x):\n",
    "        current='q0'\n",
    "        nextstate='q0'\n",
    "        for i in x:\n",
    "            current=nextstate\n",
    "            print('next state=',self.m[current][i]['state']) #for nextstate\n",
    "            print('output = ',self.m[current][i]['output']) #for output\n",
    "            nextstate=self.m[current][i]['state']\n",
    "            print()\n",
    "            \n",
    "\n",
    "    \n",
    "m1=mealey()\n",
    "x=input('Enter a string=')\n",
    "m1.check(x)"
   ]
  },
  {
   "cell_type": "code",
   "execution_count": null,
   "metadata": {},
   "outputs": [],
   "source": []
  }
 ],
 "metadata": {
  "kernelspec": {
   "display_name": "Python 3",
   "language": "python",
   "name": "python3"
  },
  "language_info": {
   "codemirror_mode": {
    "name": "ipython",
    "version": 3
   },
   "file_extension": ".py",
   "mimetype": "text/x-python",
   "name": "python",
   "nbconvert_exporter": "python",
   "pygments_lexer": "ipython3",
   "version": "3.7.3"
  }
 },
 "nbformat": 4,
 "nbformat_minor": 4
}
