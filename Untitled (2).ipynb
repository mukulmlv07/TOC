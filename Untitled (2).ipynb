{
 "cells": [
  {
   "cell_type": "code",
   "execution_count": 5,
   "metadata": {},
   "outputs": [
    {
     "name": "stdin",
     "output_type": "stream",
     "text": [
      "Please enter the expression:  (){}\n"
     ]
    },
    {
     "name": "stdout",
     "output_type": "stream",
     "text": [
      "true\n"
     ]
    }
   ],
   "source": [
    "\n",
    "class Stack:\n",
    "    def __init__(self):\n",
    "        self.m = []\n",
    " \n",
    "    def is_empty(self):\n",
    "        return self.m == []\n",
    " \n",
    "    def push(self, data):\n",
    "        self.m.append(data)\n",
    " \n",
    "    def pop(self):\n",
    "        return self.m.pop()\n",
    " \n",
    " \n",
    "s = Stack()\n",
    "exp = input('Please enter the expression: ')\n",
    " \n",
    "for c in exp:\n",
    "    if c == '(':\n",
    "        s.push(1)\n",
    "    elif c == ')':\n",
    "        if s.is_empty():\n",
    "            is_balanced = False\n",
    "            break\n",
    "        s.pop()\n",
    "else:\n",
    "    if s.is_empty(): \n",
    "        is_balanced = True\n",
    "    else:\n",
    "        is_balanced = False\n",
    " \n",
    "if is_balanced:\n",
    "    print('true')\n",
    "else:\n",
    "    print('false')\n",
    "\n"
   ]
  },
  {
   "cell_type": "code",
   "execution_count": null,
   "metadata": {},
   "outputs": [],
   "source": []
  },
  {
   "cell_type": "code",
   "execution_count": null,
   "metadata": {},
   "outputs": [],
   "source": []
  }
 ],
 "metadata": {
  "kernelspec": {
   "display_name": "Python 3",
   "language": "python",
   "name": "python3"
  },
  "language_info": {
   "codemirror_mode": {
    "name": "ipython",
    "version": 3
   },
   "file_extension": ".py",
   "mimetype": "text/x-python",
   "name": "python",
   "nbconvert_exporter": "python",
   "pygments_lexer": "ipython3",
   "version": "3.7.3"
  }
 },
 "nbformat": 4,
 "nbformat_minor": 4
}
