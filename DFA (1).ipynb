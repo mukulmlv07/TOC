{
 "cells": [
  {
   "cell_type": "code",
   "execution_count": 1,
   "metadata": {},
   "outputs": [
    {
     "name": "stdout",
     "output_type": "stream",
     "text": [
      "enter string=\n"
     ]
    },
    {
     "name": "stdin",
     "output_type": "stream",
     "text": [
      " abbbb\n"
     ]
    },
    {
     "name": "stdout",
     "output_type": "stream",
     "text": [
      "at a transition from 0 to\n",
      "1\n",
      "\n",
      "at b transition from 1 to\n",
      "1\n",
      "\n",
      "at b transition from 1 to\n",
      "1\n",
      "\n",
      "at b transition from 1 to\n",
      "1\n",
      "\n",
      "at b transition from 1 to\n",
      "1\n",
      "\n",
      "exceptable\n"
     ]
    }
   ],
   "source": [
    "class Queue:\n",
    "    def __init__(self):\n",
    "        self.item=[]\n",
    "        self.state=0\n",
    "        self.dfa=dict()\n",
    "    def createdfa(self):\n",
    "        print('enter string=')\n",
    "        x=input()\n",
    "        for i in x:\n",
    "            print('at',i,'transition from',self.state,'to')\n",
    "            if(i=='a' and self.state==0):\n",
    "                self.state=1\n",
    "                print(self.state)\n",
    "            elif(i=='a' and self.state==1):\n",
    "                self.state=1\n",
    "                print(self.state)\n",
    "            elif(i=='b' and self.state==1):\n",
    "                self.state=1\n",
    "                print(self.state)\n",
    "            elif(i=='b' and self.state==0):\n",
    "                self.state=2\n",
    "                print(self.state)\n",
    "                print('unexceptable')\n",
    "                break\n",
    "            else:\n",
    "                print('non define state')\n",
    "                print('unexeptable')\n",
    "                break\n",
    "            print()\n",
    "        else:\n",
    "            print('exceptable')\n",
    "q=Queue()\n",
    "q.createdfa()\n"
   ]
  },
  {
   "cell_type": "code",
   "execution_count": null,
   "metadata": {},
   "outputs": [],
   "source": []
  },
  {
   "cell_type": "code",
   "execution_count": null,
   "metadata": {},
   "outputs": [],
   "source": []
  }
 ],
 "metadata": {
  "kernelspec": {
   "display_name": "Python 3",
   "language": "python",
   "name": "python3"
  },
  "language_info": {
   "codemirror_mode": {
    "name": "ipython",
    "version": 3
   },
   "file_extension": ".py",
   "mimetype": "text/x-python",
   "name": "python",
   "nbconvert_exporter": "python",
   "pygments_lexer": "ipython3",
   "version": "3.7.3"
  }
 },
 "nbformat": 4,
 "nbformat_minor": 4
}
