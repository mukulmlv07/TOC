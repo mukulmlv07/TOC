{
 "cells": [
  {
   "cell_type": "code",
   "execution_count": null,
   "metadata": {},
   "outputs": [
    {
     "name": "stdout",
     "output_type": "stream",
     "text": [
      "1. Enter item at last\n",
      "2. Enter item at first\n",
      "3. Enter item at specific position\n",
      "4. RemoveRemove item at last\n",
      "5. RemoveRemove item at first\n",
      "6. Remove item at specific position\n",
      "7. Show List\n",
      "8. Exit\n",
      "Enter Your Choice\n"
     ]
    },
    {
     "name": "stdin",
     "output_type": "stream",
     "text": [
      " 1\n",
      "Enter No 15\n"
     ]
    },
    {
     "name": "stdout",
     "output_type": "stream",
     "text": [
      "1. Enter item at last\n",
      "2. Enter item at first\n",
      "3. Enter item at specific position\n",
      "4. RemoveRemove item at last\n",
      "5. RemoveRemove item at first\n",
      "6. Remove item at specific position\n",
      "7. Show List\n",
      "8. Exit\n",
      "Enter Your Choice\n"
     ]
    },
    {
     "name": "stdin",
     "output_type": "stream",
     "text": [
      " 7\n"
     ]
    },
    {
     "name": "stdout",
     "output_type": "stream",
     "text": [
      "[15]\n",
      "1. Enter item at last\n",
      "2. Enter item at first\n",
      "3. Enter item at specific position\n",
      "4. RemoveRemove item at last\n",
      "5. RemoveRemove item at first\n",
      "6. Remove item at specific position\n",
      "7. Show List\n",
      "8. Exit\n",
      "Enter Your Choice\n"
     ]
    },
    {
     "name": "stdin",
     "output_type": "stream",
     "text": [
      " 2\n",
      "Enter No 6\n"
     ]
    },
    {
     "name": "stdout",
     "output_type": "stream",
     "text": [
      "1. Enter item at last\n",
      "2. Enter item at first\n",
      "3. Enter item at specific position\n",
      "4. RemoveRemove item at last\n",
      "5. RemoveRemove item at first\n",
      "6. Remove item at specific position\n",
      "7. Show List\n",
      "8. Exit\n",
      "Enter Your Choice\n"
     ]
    },
    {
     "name": "stdin",
     "output_type": "stream",
     "text": [
      " 3\n",
      "Enter No 2\n",
      "Enter Position 15\n"
     ]
    },
    {
     "name": "stdout",
     "output_type": "stream",
     "text": [
      "1. Enter item at last\n",
      "2. Enter item at first\n",
      "3. Enter item at specific position\n",
      "4. RemoveRemove item at last\n",
      "5. RemoveRemove item at first\n",
      "6. Remove item at specific position\n",
      "7. Show List\n",
      "8. Exit\n",
      "Enter Your Choice\n"
     ]
    },
    {
     "name": "stdin",
     "output_type": "stream",
     "text": [
      " 7\n"
     ]
    },
    {
     "name": "stdout",
     "output_type": "stream",
     "text": [
      "[6, 15, 2]\n",
      "1. Enter item at last\n",
      "2. Enter item at first\n",
      "3. Enter item at specific position\n",
      "4. RemoveRemove item at last\n",
      "5. RemoveRemove item at first\n",
      "6. Remove item at specific position\n",
      "7. Show List\n",
      "8. Exit\n",
      "Enter Your Choice\n"
     ]
    },
    {
     "name": "stdin",
     "output_type": "stream",
     "text": [
      " 4\n"
     ]
    },
    {
     "name": "stdout",
     "output_type": "stream",
     "text": [
      "1. Enter item at last\n",
      "2. Enter item at first\n",
      "3. Enter item at specific position\n",
      "4. RemoveRemove item at last\n",
      "5. RemoveRemove item at first\n",
      "6. Remove item at specific position\n",
      "7. Show List\n",
      "8. Exit\n",
      "Enter Your Choice\n"
     ]
    },
    {
     "name": "stdin",
     "output_type": "stream",
     "text": [
      " 5\n"
     ]
    },
    {
     "name": "stdout",
     "output_type": "stream",
     "text": [
      "1. Enter item at last\n",
      "2. Enter item at first\n",
      "3. Enter item at specific position\n",
      "4. RemoveRemove item at last\n",
      "5. RemoveRemove item at first\n",
      "6. Remove item at specific position\n",
      "7. Show List\n",
      "8. Exit\n",
      "Enter Your Choice\n"
     ]
    },
    {
     "name": "stdin",
     "output_type": "stream",
     "text": [
      " 7\n"
     ]
    },
    {
     "name": "stdout",
     "output_type": "stream",
     "text": [
      "[15]\n",
      "1. Enter item at last\n",
      "2. Enter item at first\n",
      "3. Enter item at specific position\n",
      "4. RemoveRemove item at last\n",
      "5. RemoveRemove item at first\n",
      "6. Remove item at specific position\n",
      "7. Show List\n",
      "8. Exit\n",
      "Enter Your Choice\n"
     ]
    }
   ],
   "source": [
    "class dequeue:\n",
    "    def __init__(self):\n",
    "        self.l=[]\n",
    "    def insert_l(self,x):\n",
    "        self.l.append(x)\n",
    "    def insert_f(self,x):\n",
    "        self.l.insert(0,x)\n",
    "    def insert_m(self,pos,x):\n",
    "        self.l.insert(pos-1,x)\n",
    "    def show(self):\n",
    "        print(self.l)\n",
    "    def remove_item_l(self):\n",
    "        self.l.pop()\n",
    "    def remove_item_f(self):\n",
    "        self.l.pop(0)\n",
    "    def remove_item_m(self,pos):\n",
    "        self.l.pop(pos)\n",
    "\n",
    "obj= dequeue()\n",
    "\n",
    "while(1):\n",
    "    print('1. Enter item at last')\n",
    "    print('2. Enter item at first')\n",
    "    print('3. Enter item at specific position')\n",
    "    print('4. RemoveRemove item at last')\n",
    "    print('5. RemoveRemove item at first')\n",
    "    print('6. Remove item at specific position')\n",
    "    print('7. Show List')\n",
    "    print('8. Exit')\n",
    "    print('Enter Your Choice')\n",
    "    ch=int(input())\n",
    "    if(ch==1):\n",
    "        no=int(input(\"Enter No\"))\n",
    "        obj.insert_l(no)\n",
    "    if(ch==2):\n",
    "        no=int(input(\"Enter No\"))\n",
    "        obj.insert_f(no)\n",
    "    if(ch==3):\n",
    "        no=int(input(\"Enter No\"))\n",
    "        pos=int(input(\"Enter Position\"))\n",
    "        obj.insert_m(pos,no)\n",
    "    if(ch==4):\n",
    "        obj.remove_item_l()\n",
    "    if(ch==5):\n",
    "        obj.remove_item_f()\n",
    "    if(ch==6):\n",
    "        pos=int(input(\"Enter Position\"))\n",
    "        obj.remove_item_m(pos)\n",
    "    if(ch==7):\n",
    "        obj.show()\n",
    "    if(ch==8):\n",
    "        break"
   ]
  },
  {
   "cell_type": "code",
   "execution_count": null,
   "metadata": {},
   "outputs": [],
   "source": []
  }
 ],
 "metadata": {
  "kernelspec": {
   "display_name": "Python 3",
   "language": "python",
   "name": "python3"
  },
  "language_info": {
   "codemirror_mode": {
    "name": "ipython",
    "version": 3
   },
   "file_extension": ".py",
   "mimetype": "text/x-python",
   "name": "python",
   "nbconvert_exporter": "python",
   "pygments_lexer": "ipython3",
   "version": "3.7.3"
  }
 },
 "nbformat": 4,
 "nbformat_minor": 4
}
