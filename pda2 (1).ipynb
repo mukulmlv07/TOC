{
 "cells": [
  {
   "cell_type": "code",
   "execution_count": 9,
   "metadata": {},
   "outputs": [
    {
     "name": "stdin",
     "output_type": "stream",
     "text": [
      "enter a string aaaaaabbbbbbbb\n"
     ]
    },
    {
     "name": "stdout",
     "output_type": "stream",
     "text": [
      "a   z0 / a z0\n",
      "['z0', 'a']\n",
      "a   a / a a\n",
      "['z0', 'a', 'a']\n",
      "a   a / a a\n",
      "['z0', 'a', 'a', 'a']\n",
      "a   a / a a\n",
      "['z0', 'a', 'a', 'a', 'a']\n",
      "a   a / a a\n",
      "['z0', 'a', 'a', 'a', 'a', 'a']\n",
      "a   a / a a\n",
      "['z0', 'a', 'a', 'a', 'a', 'a', 'a']\n",
      "b   a / epsilon\n",
      "['z0', 'a', 'a', 'a', 'a', 'a']\n",
      "b   a / epsilon\n",
      "['z0', 'a', 'a', 'a', 'a']\n",
      "b   a / epsilon\n",
      "['z0', 'a', 'a', 'a']\n",
      "b   a / epsilon\n",
      "['z0', 'a', 'a']\n",
      "b   a / epsilon\n",
      "['z0', 'a']\n",
      "b   a / epsilon\n",
      "['z0']\n",
      "b   z0 / epsilon\n",
      "[]\n",
      "not excepted\n"
     ]
    }
   ],
   "source": [
    "class stack():\n",
    "        def __init__(self): \n",
    "            self.stack=[]\n",
    "            self.stack.append('z0')\n",
    "        def push(self,e):\n",
    "            self.stack.append(e)\n",
    "        def pop(self):\n",
    "            self.stack.pop()\n",
    "        def size(self):\n",
    "            return len(self.stack)\n",
    "class pda(stack):\n",
    "    def __init__(self,a):\n",
    "        self.string=a\n",
    "        self.current='p0'\n",
    "        stack.__init__(self)\n",
    "        self.t=0\n",
    "    def check(self):\n",
    "        try:\n",
    "            for i in self.string:\n",
    "                self.top=self.stack[self.size()-1]\n",
    "                if(i=='a' and self.current=='p0'):\n",
    "                    self.push(i)\n",
    "                    self.next='p1'\n",
    "                    print(i,' ',self.top,'/',i,self.top)\n",
    "                elif(i=='a' and self.current=='p1'):\n",
    "                    self.push(i)\n",
    "                    self.next='p1'\n",
    "                    print(i,' ',self.top,'/',i,self.top)\n",
    "                elif(i=='b' and self.current=='p1' and self.size()!=0):\n",
    "                    self.pop()\n",
    "                    self.next='p2'\n",
    "                    print(i,' ',self.top,'/','epsilon')\n",
    "                elif(i=='b' and self.current=='p2' and self.size()!=0):\n",
    "                    self.pop()\n",
    "                    self.next='p2'\n",
    "                    print(i,' ',self.top,'/','epsilon')\n",
    "                elif(i=='e' and self.current=='p2'):\n",
    "                    print(i,' ',self.top,'/',self.top)\n",
    "                    self.next='finala\n",
    "                    \n",
    "                    break\n",
    "                elif(self.size()==1 and i=='b'):\n",
    "                    self.t=1\n",
    "                self.current=self.next\n",
    "                print(self.stack)\n",
    "            print(self.next)\n",
    "            if(self.size()==1 and self.t==0):\n",
    "                print('excepted')\n",
    "            else:\n",
    "                print('not excepted')\n",
    "        except:\n",
    "            print('not excepted')\n",
    "            \n",
    "s=input('enter a string')\n",
    "s=s+'e'\n",
    "x=pda(s)\n",
    "x.check()"
   ]
  },
  {
   "cell_type": "code",
   "execution_count": null,
   "metadata": {},
   "outputs": [],
   "source": []
  }
 ],
 "metadata": {
  "kernelspec": {
   "display_name": "Python 3",
   "language": "python",
   "name": "python3"
  },
  "language_info": {
   "codemirror_mode": {
    "name": "ipython",
    "version": 3
   },
   "file_extension": ".py",
   "mimetype": "text/x-python",
   "name": "python",
   "nbconvert_exporter": "python",
   "pygments_lexer": "ipython3",
   "version": "3.7.3"
  }
 },
 "nbformat": 4,
 "nbformat_minor": 4
}
