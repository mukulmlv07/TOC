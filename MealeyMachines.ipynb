{
 "cells": [
  {
   "cell_type": "code",
   "execution_count": 1,
   "metadata": {},
   "outputs": [
    {
     "data": {
      "text/plain": [
       "'q0'"
      ]
     },
     "execution_count": 1,
     "metadata": {},
     "output_type": "execute_result"
    }
   ],
   "source": [
    "#first methode\n",
    "mealey={'q0':{'0':('q0','e'),'1':('q1','o')},'q1':{'1':('q0','e'),'0':('q1','o')}}\n",
    "mealey['q0']['0'][0] #for currentstate\n"
   ]
  },
  {
   "cell_type": "code",
   "execution_count": 2,
   "metadata": {},
   "outputs": [
    {
     "data": {
      "text/plain": [
       "'e'"
      ]
     },
     "execution_count": 2,
     "metadata": {},
     "output_type": "execute_result"
    }
   ],
   "source": [
    "\n",
    "mealey={'q0':{'0':('q0','e'),'1':('q1','o')},'q1':{'1':('q0','e'),'0':('q1','o')}}\n",
    "mealey['q0']['0'][1] #for output"
   ]
  },
  {
   "cell_type": "code",
   "execution_count": 3,
   "metadata": {},
   "outputs": [
    {
     "name": "stdin",
     "output_type": "stream",
     "text": [
      "Enter a string= 10101011\n"
     ]
    },
    {
     "name": "stdout",
     "output_type": "stream",
     "text": [
      "next state= q1\n",
      "output =  o\n",
      "\n",
      "next state= q1\n",
      "output =  o\n",
      "\n",
      "next state= q0\n",
      "output =  e\n",
      "\n",
      "next state= q0\n",
      "output =  e\n",
      "\n",
      "next state= q1\n",
      "output =  o\n",
      "\n",
      "next state= q1\n",
      "output =  o\n",
      "\n",
      "next state= q0\n",
      "output =  e\n",
      "\n",
      "next state= q1\n",
      "output =  o\n",
      "\n"
     ]
    }
   ],
   "source": [
    "#with class and object\n",
    "class mealey():\n",
    "    def __init__(self):\n",
    "        self.m={'q0':{'0':('q0','e'),'1':('q1','o')},'q1':{'1':('q0','e'),'0':('q1','o')}}\n",
    "    def check(self,x):\n",
    "        current='q0'\n",
    "        nextstate='q0'\n",
    "        for i in x:\n",
    "            current=nextstate\n",
    "            print('next state=',self.m[current][i][0])\n",
    "            print('output = ',self.m[current][i][1])\n",
    "            nextstate=self.m[current][i][0]\n",
    "            print()\n",
    "            \n",
    "\n",
    "        \n",
    "\n",
    "m1=mealey()\n",
    "x=input('Enter a string=')\n",
    "m1.check(x)       \n",
    "\n"
   ]
  },
  {
   "cell_type": "code",
   "execution_count": null,
   "metadata": {},
   "outputs": [],
   "source": [
    "#second methode\n",
    "mealey={'q0':{'0':('q0','e'),'1':('q1','o')},'q1':{'1':('q0','e'),'0':('q1','o')}}\n",
    "mealey['q0']['0'][0]"
   ]
  },
  {
   "cell_type": "code",
   "execution_count": null,
   "metadata": {},
   "outputs": [],
   "source": []
  }
 ],
 "metadata": {
  "kernelspec": {
   "display_name": "Python 3",
   "language": "python",
   "name": "python3"
  },
  "language_info": {
   "codemirror_mode": {
    "name": "ipython",
    "version": 3
   },
   "file_extension": ".py",
   "mimetype": "text/x-python",
   "name": "python",
   "nbconvert_exporter": "python",
   "pygments_lexer": "ipython3",
   "version": "3.7.3"
  }
 },
 "nbformat": 4,
 "nbformat_minor": 4
}
