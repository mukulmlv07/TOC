{
  "nbformat": 4,
  "nbformat_minor": 0,
  "metadata": {
    "kernelspec": {
      "display_name": "Python 3",
      "language": "python",
      "name": "python3"
    },
    "language_info": {
      "codemirror_mode": {
        "name": "ipython",
        "version": 3
      },
      "file_extension": ".py",
      "mimetype": "text/x-python",
      "name": "python",
      "nbconvert_exporter": "python",
      "pygments_lexer": "ipython3",
      "version": "3.7.3"
    },
    "colab": {
      "name": "RE.ipynb",
      "version": "0.3.2",
      "provenance": []
    }
  },
  "cells": [
    {
      "cell_type": "code",
      "metadata": {
        "id": "tzTisIpsZNPN",
        "colab_type": "code",
        "outputId": "17fdb778-b7ef-4189-b90b-7071859ce2f8",
        "colab": {}
      },
      "source": [
        "import re\n",
        "\n",
        "#Check if the string starts with \"The\" and ends with \"Spain\":\n",
        "\n",
        "txt = \"The rain in Spain\"\n",
        "x = re.search(\"^The.*Spain$\", txt)\n",
        "\n",
        "if (x):\n",
        "  print(\"YES! We have a match!\")\n",
        "else:\n",
        "  print(\"No match\")\n"
      ],
      "execution_count": 0,
      "outputs": [
        {
          "output_type": "stream",
          "text": [
            "YES! We have a match!\n"
          ],
          "name": "stdout"
        }
      ]
    },
    {
      "cell_type": "markdown",
      "metadata": {
        "id": "vMp6kII5ZNPZ",
        "colab_type": "text"
      },
      "source": [
        "RegEx Functions\n",
        "The re module offers a set of functions that allows us to search a string for a match:\n",
        "\n",
        "Function\tDescription\n",
        "findall\tReturns a list containing all matches\n",
        "search\tReturns a Match object if there is a match anywhere in the string\n",
        "split\tReturns a list where the string has been split at each match\n",
        "sub\tReplaces one or many matches with a string"
      ]
    },
    {
      "cell_type": "code",
      "metadata": {
        "id": "aUecr80yZNPb",
        "colab_type": "code",
        "outputId": "b4a1d46a-2146-4b52-d91b-c51ac5bf3cb5",
        "colab": {}
      },
      "source": [
        "import re\n",
        "\n",
        "str = \"The rain in Spain\"\n",
        "\n",
        "#Find all lower case characters alphabetically between \"a\" and \"m\": [] indicates spaecial set of characters\n",
        "\n",
        "x = re.findall(\"[a-m]\", str)\n",
        "print(x)\n"
      ],
      "execution_count": 0,
      "outputs": [
        {
          "output_type": "stream",
          "text": [
            "['h', 'e', 'a', 'i', 'i', 'a', 'i']\n"
          ],
          "name": "stdout"
        }
      ]
    },
    {
      "cell_type": "code",
      "metadata": {
        "id": "itQsNKI4ZNPi",
        "colab_type": "code",
        "outputId": "9e5f3a82-f2ad-41a9-89dd-b1cc1bb60904",
        "colab": {}
      },
      "source": [
        "import re\n",
        "\n",
        "str = \"That will be 59 dollars\"\n",
        "\n",
        "#Find all digit characters:\\ Signals a special sequence (can also be used to escape special characters)\n",
        "\n",
        "x = re.findall(\"\\d\", str)\n",
        "print(x)\n"
      ],
      "execution_count": 0,
      "outputs": [
        {
          "output_type": "stream",
          "text": [
            "['5', '9']\n"
          ],
          "name": "stdout"
        }
      ]
    },
    {
      "cell_type": "code",
      "metadata": {
        "id": "FMvSJ4mDZNPk",
        "colab_type": "code",
        "outputId": "8bf5ed0f-0406-4cc1-f65f-2bf6221e7543",
        "colab": {}
      },
      "source": [
        "import re\n",
        "\n",
        "str = \"hello world\"\n",
        "\n",
        "#Search for a sequence that starts with \"he\", followed by two (any) characters, and an \"o\": .is for Any character (except newline character)\n",
        "\n",
        "x = re.findall(\"he..o\", str)\n",
        "print(x)\n"
      ],
      "execution_count": 0,
      "outputs": [
        {
          "output_type": "stream",
          "text": [
            "['hello']\n"
          ],
          "name": "stdout"
        }
      ]
    },
    {
      "cell_type": "code",
      "metadata": {
        "id": "SBP512AkZNPn",
        "colab_type": "code",
        "outputId": "e15282b9-3388-4a55-f0b3-ab5168957537",
        "colab": {}
      },
      "source": [
        "import re\n",
        "\n",
        "str = \"The rain in Spain falls mainly in the plain!\"\n",
        "\n",
        "#Check if the string contains \"ai\" followed by 0 or more \"x\" characters:\n",
        "\n",
        "x = re.findall(\"aix*\", str)\n",
        "\n",
        "print(x)\n",
        "\n",
        "if (x):\n",
        "  print(\"Yes, there is at least one match!\")\n",
        "else:\n",
        "  print(\"No match\")"
      ],
      "execution_count": 0,
      "outputs": [
        {
          "output_type": "stream",
          "text": [
            "['ai', 'ai', 'ai', 'ai']\n",
            "Yes, there is at least one match!\n"
          ],
          "name": "stdout"
        }
      ]
    },
    {
      "cell_type": "markdown",
      "metadata": {
        "id": "IDL_WMVoZREx",
        "colab_type": "text"
      },
      "source": [
        ""
      ]
    },
    {
      "cell_type": "code",
      "metadata": {
        "id": "Z1fAHHb5ZNPp",
        "colab_type": "code",
        "outputId": "a809e833-aa2b-45c6-a8e3-9025ce5ac5ec",
        "colab": {}
      },
      "source": [
        "import re\n",
        "\n",
        "str = \"The rain in Spain falls mainly in the plain!\"\n",
        "\n",
        "#Check if the string contains \"ai\" followed by 1 or more \"x\" characters:\n",
        "\n",
        "x = re.findall(\"aix+\", str)\n",
        "\n",
        "print(x)\n",
        "\n",
        "if (x):\n",
        "  print(\"Yes, there is at least one match!\")\n",
        "else:\n",
        "  print(\"No match\")\n"
      ],
      "execution_count": 0,
      "outputs": [
        {
          "output_type": "stream",
          "text": [
            "[]\n",
            "No match\n"
          ],
          "name": "stdout"
        }
      ]
    },
    {
      "cell_type": "code",
      "metadata": {
        "id": "PlYkgnmNZNPs",
        "colab_type": "code",
        "outputId": "4c8d0eb9-8d6e-44f8-f226-8d75a461ab10",
        "colab": {}
      },
      "source": [
        "import re\n",
        "\n",
        "str = \"The rain in Spain falls mainly in the plain!\"\n",
        "\n",
        "#Check if the string contains \"a\" followed by exactly two \"l\" characters:{} specifies Exactly the specified number of occurrences\n",
        "\n",
        "x = re.findall(\"al{2}\", str)\n",
        "\n",
        "print(x)\n",
        "\n",
        "if (x):\n",
        "  print(\"Yes, there is at least one match!\")\n",
        "else:\n",
        "  print(\"No match\")"
      ],
      "execution_count": 0,
      "outputs": [
        {
          "output_type": "stream",
          "text": [
            "['all']\n",
            "Yes, there is at least one match!\n"
          ],
          "name": "stdout"
        }
      ]
    },
    {
      "cell_type": "code",
      "metadata": {
        "id": "WcisKY_sZNPv",
        "colab_type": "code",
        "outputId": "227b664d-2021-4955-d1f7-0864720a8a02",
        "colab": {}
      },
      "source": [
        "import re\n",
        "\n",
        "str = \"The rain in Spain falls mainly in the plain!\"\n",
        "\n",
        "#Check if the string contains either \"falls\" or \"stays\":\n",
        "\n",
        "x = re.findall(\"falls|stays\", str)\n",
        "\n",
        "print(x)\n",
        "\n",
        "if (x):\n",
        "  print(\"Yes, there is at least one match!\")\n",
        "else:\n",
        "  print(\"No match\")\n"
      ],
      "execution_count": 0,
      "outputs": [
        {
          "output_type": "stream",
          "text": [
            "['falls']\n",
            "Yes, there is at least one match!\n"
          ],
          "name": "stdout"
        }
      ]
    },
    {
      "cell_type": "markdown",
      "metadata": {
        "id": "ZzS11qEqZNPy",
        "colab_type": "text"
      },
      "source": [
        "A special sequence is a \\ followed by one of the characters in the list below, and has a special meaning:\n",
        "\n",
        "\\A\tReturns a match if the specified characters are at the beginning of the string\t\"\\AThe\"\t\n",
        "\\b\tReturns a match where the specified characters are at the beginning or at the end of a word\tr\"\\bain\"\n",
        "r\"ain\\b\"\t\n",
        "\\B\tReturns a match where the specified characters are present, but NOT at the beginning (or at the end) of a word\tr\"\\Bain\"\n",
        "r\"ain\\B\"\t\n",
        "\\d\tReturns a match where the string contains digits (numbers from 0-9)\t\"\\d\"\t\n",
        "\\D\tReturns a match where the string DOES NOT contain digits\t\"\\D\"\t\n",
        "\\s\tReturns a match where the string contains a white space character\t\"\\s\"\t\n",
        "\\S\tReturns a match where the string DOES NOT contain a white space character\t\"\\S\"\t\n",
        "\\w\tReturns a match where the string contains any word characters (characters from a to Z, digits from 0-9, and the underscore _ character)\t\"\\w\"\t\n",
        "\\W\tReturns a match where the string DOES NOT contain any word characters\t\"\\W\"\t\n",
        "\\Z\tReturns a match if the specified characters are at the end of the string\t\"Spain\\Z\"\t\n",
        "Sets\n",
        "A set is a set of characters inside a pair of square brackets [] with a special meaning:\n",
        "\n",
        "Set\tDescription\tTry it\n",
        "[arn]\tReturns a match where one of the specified characters (a, r, or n) are present\t\n",
        "[a-n]\tReturns a match for any lower case character, alphabetically between a and n\t\n",
        "[^arn]\tReturns a match for any character EXCEPT a, r, and n\t\n",
        "[0123]\tReturns a match where any of the specified digits (0, 1, 2, or 3) are present\t\n",
        "[0-9]\tReturns a match for any digit between 0 and 9\t\n",
        "[0-5][0-9]\tReturns a match for any two-digit numbers from 00 and 59\t\n",
        "[a-zA-Z]\tReturns a match for any character alphabetically between a and z, lower case OR upper case\t\n",
        "[+]\tIn sets, +, *, ., |, (), $,{} has no special meaning, so [+] means: return a match for any + character in the string"
      ]
    },
    {
      "cell_type": "markdown",
      "metadata": {
        "id": "st0-Eo0HZNPz",
        "colab_type": "text"
      },
      "source": [
        "Sets\n",
        "A set is a set of characters inside a pair of square brackets [] with a special meaning:\n",
        "\n",
        "Set\tDescription\tTry it\n",
        "[arn]\tReturns a match where one of the specified characters (a, r, or n) are present\t\n",
        "[a-n]\tReturns a match for any lower case character, alphabetically between a and n\t\n",
        "[^arn]\tReturns a match for any character EXCEPT a, r, and n\t\n",
        "[0123]\tReturns a match where any of the specified digits (0, 1, 2, or 3) are present\t\n",
        "[0-9]\tReturns a match for any digit between 0 and 9\t\n",
        "[0-5][0-9]\tReturns a match for any two-digit numbers from 00 and 59\t\n",
        "[a-zA-Z]\tReturns a match for any character alphabetically between a and z, lower case OR upper case\t\n",
        "[+]\tIn sets, +, *, ., |, (), $,{} has no special meaning, so [+] means: return a match for any + character in the string"
      ]
    },
    {
      "cell_type": "code",
      "metadata": {
        "id": "KWox6naBZNP0",
        "colab_type": "code",
        "outputId": "d0729003-008a-4219-8049-2dca7b815f49",
        "colab": {}
      },
      "source": [
        "import re\n",
        "\n",
        "#Return a list containing every occurrence of \"ai\":\n",
        "\n",
        "str = \"The rain in Spain\"\n",
        "x = re.findall(\"ai\", str)\n",
        "print(x)"
      ],
      "execution_count": 0,
      "outputs": [
        {
          "output_type": "stream",
          "text": [
            "['ai', 'ai']\n"
          ],
          "name": "stdout"
        }
      ]
    },
    {
      "cell_type": "code",
      "metadata": {
        "id": "ehPX8e0kZNP4",
        "colab_type": "code",
        "outputId": "d5566c40-7676-406d-d8f6-ce21bd51f684",
        "colab": {}
      },
      "source": [
        "import re\n",
        "\n",
        "str = \"The rain in Spain\"\n",
        "\n",
        "#Check if \"Portugal\" is in the string:\n",
        "\n",
        "x = re.findall(\"Portugal\", str)\n",
        "print(x)\n",
        "\n",
        "if (x):\n",
        "  print(\"Yes, there is at least one match!\")\n",
        "else:\n",
        "  print(\"No match\")\n"
      ],
      "execution_count": 0,
      "outputs": [
        {
          "output_type": "stream",
          "text": [
            "[]\n",
            "No match\n"
          ],
          "name": "stdout"
        }
      ]
    },
    {
      "cell_type": "code",
      "metadata": {
        "id": "-o3kdCHLZNP6",
        "colab_type": "code",
        "outputId": "d435ab95-d05f-4446-ee68-21110fd24e80",
        "colab": {}
      },
      "source": [
        "#The split() function returns a list where the string has been split at each match:\n",
        "\n",
        "\n",
        "#Split at each white-space character:\n",
        "\n",
        "import re\n",
        "\n",
        "str = \"The rain in Spain\"\n",
        "x = re.split(\"\\s\", str)\n",
        "print(x)"
      ],
      "execution_count": 0,
      "outputs": [
        {
          "output_type": "stream",
          "text": [
            "['The', 'rain', 'in', 'Spain']\n"
          ],
          "name": "stdout"
        }
      ]
    },
    {
      "cell_type": "code",
      "metadata": {
        "id": "dnxRFxGUZNP_",
        "colab_type": "code",
        "outputId": "bd2b5055-8117-4153-b7d7-c4cb3d544bea",
        "colab": {}
      },
      "source": [
        "#Split the string only at the first occurrence:\n",
        "\n",
        "import re\n",
        "\n",
        "str = \"The rain in Spain\"\n",
        "x = re.split(\"\\s\", str, 1)\n",
        "print(x)"
      ],
      "execution_count": 0,
      "outputs": [
        {
          "output_type": "stream",
          "text": [
            "['The', 'rain in Spain']\n"
          ],
          "name": "stdout"
        }
      ]
    },
    {
      "cell_type": "code",
      "metadata": {
        "id": "-ZWAfZjBZNQB",
        "colab_type": "code",
        "outputId": "490a0eac-4128-4104-b8ec-717410716eab",
        "colab": {}
      },
      "source": [
        "#Replace every white-space character with the number 9:\n",
        "\n",
        "import re\n",
        "\n",
        "str = \"The rain in Spain\"\n",
        "x = re.sub(\"\\s\", \"9\", str)\n",
        "print(x)"
      ],
      "execution_count": 0,
      "outputs": [
        {
          "output_type": "stream",
          "text": [
            "The9rain9in9Spain\n"
          ],
          "name": "stdout"
        }
      ]
    },
    {
      "cell_type": "code",
      "metadata": {
        "id": "GdgQoN6GZNQD",
        "colab_type": "code",
        "outputId": "aceddf39-1c23-4a99-8be9-96707eabbee1",
        "colab": {
          "base_uri": "https://localhost:8080/",
          "height": 34
        }
      },
      "source": [
        "import re\n",
        "#\\w is for word character\n",
        "str = \"abc@gmail.com\"\n",
        "x = re.search('.+@.+\\.com', str)\n",
        "if (x):\n",
        "  print(\"Yes, there is at least one match!\")\n",
        "else:\n",
        "  print(\"No match\")"
      ],
      "execution_count": 0,
      "outputs": [
        {
          "output_type": "stream",
          "text": [
            "No match\n"
          ],
          "name": "stdout"
        }
      ]
    },
    {
      "cell_type": "code",
      "metadata": {
        "id": "L02Py2uwZNQF",
        "colab_type": "code",
        "outputId": "49736647-6f85-47e0-e1be-89066fd06697",
        "colab": {
          "base_uri": "https://localhost:8080/",
          "height": 34
        }
      },
      "source": [
        "import re\n",
        "#\\w is for word character\n",
        "str = \"abc@gmail.com\"\n",
        "x = re.search('.+@.+\\.com', str)\n",
        "if (x):\n",
        "  print(\"Yes, there is at least one match!\")\n",
        "else:\n",
        "  print(\"No match\")"
      ],
      "execution_count": 0,
      "outputs": [
        {
          "output_type": "stream",
          "text": [
            "Yes, there is at least one match!\n"
          ],
          "name": "stdout"
        }
      ]
    },
    {
      "cell_type": "code",
      "metadata": {
        "id": "ZrnZOSlqcjq4",
        "colab_type": "code",
        "outputId": "63e9ba7b-9e2b-4b52-d357-5dbba7f88946",
        "colab": {
          "base_uri": "https://localhost:8080/",
          "height": 34
        }
      },
      "source": [
        "import re\n",
        "str='+919999999999'\n",
        "x=re.search('^\\+91[0-9]{10}',str)\n",
        "if (x):\n",
        "  print(\"Yes, there is at least one match!\")\n",
        "else:\n",
        "  print(\"No match\")"
      ],
      "execution_count": 0,
      "outputs": [
        {
          "output_type": "stream",
          "text": [
            "Yes, there is at least one match!\n"
          ],
          "name": "stdout"
        }
      ]
    },
    {
      "cell_type": "code",
      "metadata": {
        "id": "AxTuxiHZgqmp",
        "colab_type": "code",
        "outputId": "3a613711-9064-4b47-fea7-ccc859c3501b",
        "colab": {
          "base_uri": "https://localhost:8080/",
          "height": 34
        }
      },
      "source": [
        "import re\n",
        "str='0101011001'\n",
        "x=re.search('^0.*1$|^1.0$',str)\n",
        "if (x):\n",
        "  print(\"Yes, there is at least one match!\")\n",
        "else:\n",
        "  print(\"No match\")"
      ],
      "execution_count": 0,
      "outputs": [
        {
          "output_type": "stream",
          "text": [
            "No match\n"
          ],
          "name": "stdout"
        }
      ]
    },
    {
      "cell_type": "code",
      "metadata": {
        "id": "2Yx5jDV9iVbX",
        "colab_type": "code",
        "outputId": "1dc37687-a4fd-43e4-e918-cdb1a86eaa58",
        "colab": {
          "base_uri": "https://localhost:8080/",
          "height": 34
        }
      },
      "source": [
        "import re\n",
        "str='aaaaabbbbbb'\n",
        "x=re.search('^a.*b$|^b.a$',str)\n",
        "if (x):\n",
        "  print(\"Yes, there is at least one match!\")\n",
        "else:\n",
        "  print(\"No match\")"
      ],
      "execution_count": 0,
      "outputs": [
        {
          "output_type": "stream",
          "text": [
            "Yes, there is at least one match!\n"
          ],
          "name": "stdout"
        }
      ]
    },
    {
      "cell_type": "code",
      "metadata": {
        "id": "CBaYdUqJiw29",
        "colab_type": "code",
        "outputId": "b964c77c-45e5-4052-fdc4-4b715d3ba78b",
        "colab": {
          "base_uri": "https://localhost:8080/",
          "height": 34
        }
      },
      "source": [
        "import re\n",
        "str='abab'\n",
        "x=re.search('^a.*b$',str)\n",
        "if (x):\n",
        "  print(\"Yes, there is at least one match!\")\n",
        "else:\n",
        "  print(\"No match\")"
      ],
      "execution_count": 0,
      "outputs": [
        {
          "output_type": "stream",
          "text": [
            "Yes, there is at least one match!\n"
          ],
          "name": "stdout"
        }
      ]
    },
    {
      "cell_type": "code",
      "metadata": {
        "id": "psFC-LdMkcQA",
        "colab_type": "code",
        "outputId": "8950b59c-c864-4d04-c4d3-f74b17d8898f",
        "colab": {
          "base_uri": "https://localhost:8080/",
          "height": 34
        }
      },
      "source": [
        "import re\n",
        "str=128\n",
        "s=bin(str)[2::]\n",
        "x=re.search('^1[0].*[0]$',s)\n",
        "if (x):\n",
        "  print(\"Yes, there is at least one match!\")\n",
        "else:\n",
        "  print(\"No match\")"
      ],
      "execution_count": 0,
      "outputs": [
        {
          "output_type": "stream",
          "text": [
            "Yes, there is at least one match!\n"
          ],
          "name": "stdout"
        }
      ]
    }
  ]
}